{
  "nbformat": 4,
  "nbformat_minor": 0,
  "metadata": {
    "colab": {
      "provenance": [],
      "authorship_tag": "ABX9TyM5bV0ety40dCw002J8GQ6F",
      "include_colab_link": true
    },
    "kernelspec": {
      "name": "python3",
      "display_name": "Python 3"
    },
    "language_info": {
      "name": "python"
    }
  },
  "cells": [
    {
      "cell_type": "markdown",
      "metadata": {
        "id": "view-in-github",
        "colab_type": "text"
      },
      "source": [
        "<a href=\"https://colab.research.google.com/github/lucasaree/POOTPS/blob/main/TP10POO.ipynb\" target=\"_parent\"><img src=\"https://colab.research.google.com/assets/colab-badge.svg\" alt=\"Open In Colab\"/></a>"
      ]
    },
    {
      "cell_type": "code",
      "execution_count": null,
      "metadata": {
        "colab": {
          "base_uri": "https://localhost:8080/",
          "height": 106
        },
        "id": "5MY6FgNq0W2w",
        "outputId": "7cdc329d-5352-42a6-9d8a-999fbfec48a0"
      },
      "outputs": [
        {
          "output_type": "error",
          "ename": "IndentationError",
          "evalue": "unexpected indent (<ipython-input-1-8b56d6409cee>, line 2)",
          "traceback": [
            "\u001b[0;36m  File \u001b[0;32m\"<ipython-input-1-8b56d6409cee>\"\u001b[0;36m, line \u001b[0;32m2\u001b[0m\n\u001b[0;31m    ventana = tk.Tk()\u001b[0m\n\u001b[0m    ^\u001b[0m\n\u001b[0;31mIndentationError\u001b[0m\u001b[0;31m:\u001b[0m unexpected indent\n"
          ]
        }
      ],
      "source": [
        "#TP HECHO POR LUCAS ARENAS, MORENA GUZMAN 5°D\n",
        "import tkinter as tk\n",
        " ventana = tk.Tk()\n",
        " ventana.title(“Interfaces graficas de usuario.\")\n",
        " ventana.geometry(\"400x300\")\n",
        " #creo una etiqueta con tk.Label\n",
        " etiqueta = tk.Label(ventana, text = \"Bienvenidos.\")\n",
        " #posiciona la etiqueta dentro de la ventana\n",
        " etiqueta.pack() #posiciona la etiqueta dentro de la ventana\n",
        " ventana.mainloop()\n",
        "import tkinter as tk\n",
        " import random as rd\n",
        " class Adivinanzas:\n",
        " def __init__(self, ventana):\n",
        " self.__numero_secreto = rd.randint(1, 10)\n",
        " self.__posible_numero = tk.Entry(ventana)\n",
        " self.__posible_numero.pack(pady = 20)\n",
        " self.__boton = tk.Button(ventana, text = \"Adivina\", command =\n",
        " self.chequear_adivinanzas)\n",
        " self.__boton.pack(pady = 10)\n",
        " self.__label = tk.Label(ventana, text = \"\")\n",
        " self.__label.pack(pady = 20)\n",
        "def chequear_adivinanzas(self):\n",
        " adivinanza = self.__posible_numero.get()\n",
        " if adivinanza:\n",
        " if int(adivinanza) == self.__numero_secreto:\n",
        " self.__label.config(text = \"Felicitacines, acertaste el numero\")\n",
        " else:\n",
        " self.__label.config(text = \"Ups... vuelve a intentarlo\")\n",
        " ventana = tk.Tk()\n",
        " ventana.title(\"Juego de adivinanza\")\n",
        " ventana.geometry(\"300x200\")\n",
        " juego = Adivinanzas(ventana)\n",
        "1 ventana.mainloop()\n"
      ]
    }
  ]
}